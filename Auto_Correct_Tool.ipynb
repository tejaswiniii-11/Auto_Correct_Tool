{
  "nbformat": 4,
  "nbformat_minor": 0,
  "metadata": {
    "colab": {
      "provenance": []
    },
    "kernelspec": {
      "name": "python3",
      "display_name": "Python 3"
    },
    "language_info": {
      "name": "python"
    }
  },
  "cells": [
    {
      "cell_type": "code",
      "execution_count": 1,
      "metadata": {
        "colab": {
          "base_uri": "https://localhost:8080/"
        },
        "id": "8ebOFs7mbdc2",
        "outputId": "59e1c67f-7097-4a4d-e295-682e7c3f4d23"
      },
      "outputs": [
        {
          "output_type": "stream",
          "name": "stdout",
          "text": [
            "Requirement already satisfied: textblob in /usr/local/lib/python3.10/dist-packages (0.17.1)\n",
            "Requirement already satisfied: nltk>=3.1 in /usr/local/lib/python3.10/dist-packages (from textblob) (3.8.1)\n",
            "Requirement already satisfied: click in /usr/local/lib/python3.10/dist-packages (from nltk>=3.1->textblob) (8.1.6)\n",
            "Requirement already satisfied: joblib in /usr/local/lib/python3.10/dist-packages (from nltk>=3.1->textblob) (1.3.2)\n",
            "Requirement already satisfied: regex>=2021.8.3 in /usr/local/lib/python3.10/dist-packages (from nltk>=3.1->textblob) (2023.6.3)\n",
            "Requirement already satisfied: tqdm in /usr/local/lib/python3.10/dist-packages (from nltk>=3.1->textblob) (4.66.0)\n"
          ]
        }
      ],
      "source": [
        "pip install textblob"
      ]
    },
    {
      "cell_type": "code",
      "source": [
        "from textblob import TextBlob"
      ],
      "metadata": {
        "id": "1EZLxF_rbhUf"
      },
      "execution_count": 2,
      "outputs": []
    },
    {
      "cell_type": "code",
      "source": [
        "def auto_correct(text):\n",
        "    blob = TextBlob(text)\n",
        "    corrected_text = blob.correct()\n",
        "    return corrected_text"
      ],
      "metadata": {
        "id": "Ku-BAI-Mbq43"
      },
      "execution_count": 3,
      "outputs": []
    },
    {
      "cell_type": "code",
      "source": [
        "# Get input text from the user\n",
        "input_text = input(\"Enter a sentence with spelling errors: \")"
      ],
      "metadata": {
        "colab": {
          "base_uri": "https://localhost:8080/"
        },
        "id": "6WG9bY_lbtzy",
        "outputId": "add35212-214c-4778-d79a-8642680592b0"
      },
      "execution_count": 4,
      "outputs": [
        {
          "name": "stdout",
          "output_type": "stream",
          "text": [
            "Enter a sentence with spelling errors: hellu\n"
          ]
        }
      ]
    },
    {
      "cell_type": "code",
      "source": [
        "# Perform auto-correction and display corrected text\n",
        "corrected_text = auto_correct(input_text)\n",
        "print(\"Corrected text:\", corrected_text)"
      ],
      "metadata": {
        "colab": {
          "base_uri": "https://localhost:8080/"
        },
        "id": "i-Dsurt0bwP-",
        "outputId": "16cfb214-c7d8-4bec-8992-eb8cdedc1405"
      },
      "execution_count": 5,
      "outputs": [
        {
          "output_type": "stream",
          "name": "stdout",
          "text": [
            "Corrected text: hell\n"
          ]
        }
      ]
    },
    {
      "cell_type": "code",
      "source": [
        "from textblob import TextBlob\n",
        "\n",
        "def auto_correct(text):\n",
        "    blob = TextBlob(text)\n",
        "    corrected_text = blob.correct()\n",
        "    return corrected_text\n",
        "\n",
        "# Get input text from the user\n",
        "input_text = input(\"Enter a sentence with spelling errors: \")\n",
        "\n",
        "# Perform auto-correction and display corrected text\n",
        "corrected_text = auto_correct(input_text)\n",
        "print(\"Corrected text:\", corrected_text)\n"
      ],
      "metadata": {
        "colab": {
          "base_uri": "https://localhost:8080/"
        },
        "id": "qC_rjzefbzv_",
        "outputId": "c11e1701-0961-4d69-87c6-d4e50d39d641"
      },
      "execution_count": 6,
      "outputs": [
        {
          "output_type": "stream",
          "name": "stdout",
          "text": [
            "Enter a sentence with spelling errors: hellu my namw ij tejaswini\n",
            "Corrected text: hell my name in tejaswini\n"
          ]
        }
      ]
    }
  ]
}